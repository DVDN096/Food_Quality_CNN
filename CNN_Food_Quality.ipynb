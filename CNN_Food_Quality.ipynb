{
 "cells": [
  {
   "cell_type": "markdown",
   "id": "783ab855",
   "metadata": {},
   "source": [
    "# Importing Libraries"
   ]
  },
  {
   "cell_type": "code",
   "execution_count": 1,
   "id": "7a1c4271",
   "metadata": {},
   "outputs": [
    {
     "name": "stdout",
     "output_type": "stream",
     "text": [
      "WARNING:tensorflow:From C:\\Users\\ACER\\anaconda3\\Lib\\site-packages\\keras\\src\\losses.py:2976: The name tf.losses.sparse_softmax_cross_entropy is deprecated. Please use tf.compat.v1.losses.sparse_softmax_cross_entropy instead.\n",
      "\n"
     ]
    }
   ],
   "source": [
    "from keras.models import Sequential "
   ]
  },
  {
   "cell_type": "code",
   "execution_count": 2,
   "id": "f8a5ae63",
   "metadata": {},
   "outputs": [],
   "source": [
    "from keras.layers import Conv2D, MaxPooling2D, BatchNormalization "
   ]
  },
  {
   "cell_type": "code",
   "execution_count": 3,
   "id": "67a42173",
   "metadata": {},
   "outputs": [],
   "source": [
    "from keras.layers import Activation, Dropout, Flatten, Dense"
   ]
  },
  {
   "cell_type": "code",
   "execution_count": 4,
   "id": "2b275251",
   "metadata": {},
   "outputs": [],
   "source": [
    "import os\n",
    "import cv2\n",
    "from PIL import Image\n",
    "import numpy as np\n"
   ]
  },
  {
   "cell_type": "markdown",
   "id": "276aa70e",
   "metadata": {},
   "source": [
    "# Data Collection"
   ]
  },
  {
   "cell_type": "code",
   "execution_count": 5,
   "id": "2c4b55c3",
   "metadata": {},
   "outputs": [],
   "source": [
    "import cv2\n",
    "\n",
    "classes = {'fresh_capsicum':0,'stale_capsicum':1}\n",
    "x=[]\n",
    "y=[]\n",
    "for cls in classes:\n",
    "    pth='C:\\\\vege\\\\'+cls\n",
    "    for j in os.listdir(pth):\n",
    "        img=cv2.imread(os.path.join(pth,j),0)\n",
    "        img=cv2.resize(img,(200,200))\n",
    "        x.append(img)\n",
    "        y.append(classes[cls])"
   ]
  },
  {
   "cell_type": "code",
   "execution_count": 6,
   "id": "e0e53c08",
   "metadata": {},
   "outputs": [
    {
     "name": "stdout",
     "output_type": "stream",
     "text": [
      "{'fresh_capsicum': 0, 'stale_capsicum': 1}\n"
     ]
    }
   ],
   "source": [
    "print(classes)"
   ]
  },
  {
   "cell_type": "code",
   "execution_count": 7,
   "id": "2d27ac58",
   "metadata": {},
   "outputs": [],
   "source": [
    "y = np.array(y)\n",
    "x = np.array(x)"
   ]
  },
  {
   "cell_type": "code",
   "execution_count": 8,
   "id": "1003981f",
   "metadata": {},
   "outputs": [
    {
     "name": "stdout",
     "output_type": "stream",
     "text": [
      "[[  0   0   0 ...   0   0   0]\n",
      " [  0   0   0 ...   0   0   0]\n",
      " [  0   0   0 ...   0   0   0]\n",
      " ...\n",
      " [231 234 232 ...   0   0   0]\n",
      " [230 231 231 ...   0   0   0]\n",
      " [228 229 231 ...   0   0   0]]\n"
     ]
    }
   ],
   "source": [
    "print(x[10])"
   ]
  },
  {
   "cell_type": "markdown",
   "id": "095af54d",
   "metadata": {},
   "source": [
    "# Data Splitting "
   ]
  },
  {
   "cell_type": "code",
   "execution_count": 9,
   "id": "96dfce47",
   "metadata": {},
   "outputs": [],
   "source": [
    "from sklearn.model_selection import train_test_split\n",
    "\n",
    "X_train, X_test, y_train, y_test = train_test_split(x, y, test_size = 0.20, random_state = 0, stratify = y)\n",
    "\n"
   ]
  },
  {
   "cell_type": "markdown",
   "id": "f3179fcd",
   "metadata": {},
   "source": [
    "# Data Normalization "
   ]
  },
  {
   "cell_type": "code",
   "execution_count": 10,
   "id": "15a4f371",
   "metadata": {},
   "outputs": [],
   "source": [
    "\n",
    "X_train = X_train / 255.0\n",
    "X_test = X_test / 255.0\n"
   ]
  },
  {
   "cell_type": "markdown",
   "id": "3bf1215b",
   "metadata": {},
   "source": [
    "# Building Neural Networks"
   ]
  },
  {
   "cell_type": "code",
   "execution_count": 11,
   "id": "c8aaa9c0",
   "metadata": {},
   "outputs": [
    {
     "name": "stdout",
     "output_type": "stream",
     "text": [
      "WARNING:tensorflow:From C:\\Users\\ACER\\anaconda3\\Lib\\site-packages\\keras\\src\\backend.py:873: The name tf.get_default_graph is deprecated. Please use tf.compat.v1.get_default_graph instead.\n",
      "\n",
      "WARNING:tensorflow:From C:\\Users\\ACER\\anaconda3\\Lib\\site-packages\\keras\\src\\layers\\pooling\\max_pooling2d.py:161: The name tf.nn.max_pool is deprecated. Please use tf.nn.max_pool2d instead.\n",
      "\n",
      "WARNING:tensorflow:From C:\\Users\\ACER\\anaconda3\\Lib\\site-packages\\keras\\src\\optimizers\\__init__.py:309: The name tf.train.Optimizer is deprecated. Please use tf.compat.v1.train.Optimizer instead.\n",
      "\n"
     ]
    }
   ],
   "source": [
    "INPUT_SHAPE = (200, 200, 1)   #change to (SIZE, SIZE, 3)\n",
    "\n",
    "\n",
    "model = Sequential()\n",
    "model.add(Conv2D(32, (3, 3), input_shape=INPUT_SHAPE))\n",
    "          \n",
    "model.add(Activation('relu'))\n",
    "model.add(MaxPooling2D(pool_size=(2, 2)))\n",
    "\n",
    "model.add(Conv2D(32, (3, 3), kernel_initializer = 'he_uniform'))\n",
    "model.add(Activation('relu'))\n",
    "model.add(MaxPooling2D(pool_size=(2, 2)))\n",
    "\n",
    "model.add(Conv2D(64, (3, 3), kernel_initializer = 'he_uniform'))\n",
    "model.add(Activation('relu'))\n",
    "model.add(MaxPooling2D(pool_size=(2, 2)))\n",
    "\n",
    "model.add(Flatten())\n",
    "model.add(Dense(64))\n",
    "model.add(Activation('relu'))\n",
    "model.add(Dropout(0.5))\n",
    "\n",
    "model.add(Dense(1))\n",
    "model.add(Activation('sigmoid'))  \n",
    "\n",
    "model.compile(loss='binary_crossentropy',\n",
    "              optimizer='rmsprop',             #also try adam\n",
    "              metrics=['accuracy'])"
   ]
  },
  {
   "cell_type": "code",
   "execution_count": 12,
   "id": "21b5c188",
   "metadata": {},
   "outputs": [
    {
     "name": "stdout",
     "output_type": "stream",
     "text": [
      "Model: \"sequential\"\n",
      "_________________________________________________________________\n",
      " Layer (type)                Output Shape              Param #   \n",
      "=================================================================\n",
      " conv2d (Conv2D)             (None, 198, 198, 32)      320       \n",
      "                                                                 \n",
      " activation (Activation)     (None, 198, 198, 32)      0         \n",
      "                                                                 \n",
      " max_pooling2d (MaxPooling2  (None, 99, 99, 32)        0         \n",
      " D)                                                              \n",
      "                                                                 \n",
      " conv2d_1 (Conv2D)           (None, 97, 97, 32)        9248      \n",
      "                                                                 \n",
      " activation_1 (Activation)   (None, 97, 97, 32)        0         \n",
      "                                                                 \n",
      " max_pooling2d_1 (MaxPoolin  (None, 48, 48, 32)        0         \n",
      " g2D)                                                            \n",
      "                                                                 \n",
      " conv2d_2 (Conv2D)           (None, 46, 46, 64)        18496     \n",
      "                                                                 \n",
      " activation_2 (Activation)   (None, 46, 46, 64)        0         \n",
      "                                                                 \n",
      " max_pooling2d_2 (MaxPoolin  (None, 23, 23, 64)        0         \n",
      " g2D)                                                            \n",
      "                                                                 \n",
      " flatten (Flatten)           (None, 33856)             0         \n",
      "                                                                 \n",
      " dense (Dense)               (None, 64)                2166848   \n",
      "                                                                 \n",
      " activation_3 (Activation)   (None, 64)                0         \n",
      "                                                                 \n",
      " dropout (Dropout)           (None, 64)                0         \n",
      "                                                                 \n",
      " dense_1 (Dense)             (None, 1)                 65        \n",
      "                                                                 \n",
      " activation_4 (Activation)   (None, 1)                 0         \n",
      "                                                                 \n",
      "=================================================================\n",
      "Total params: 2194977 (8.37 MB)\n",
      "Trainable params: 2194977 (8.37 MB)\n",
      "Non-trainable params: 0 (0.00 Byte)\n",
      "_________________________________________________________________\n",
      "None\n"
     ]
    }
   ],
   "source": [
    "print(model.summary())    "
   ]
  },
  {
   "cell_type": "markdown",
   "id": "d4bd7369",
   "metadata": {},
   "source": [
    "# Model training"
   ]
  },
  {
   "cell_type": "code",
   "execution_count": 13,
   "id": "270bd05a",
   "metadata": {
    "scrolled": true
   },
   "outputs": [
    {
     "name": "stdout",
     "output_type": "stream",
     "text": [
      "Epoch 1/30\n",
      "WARNING:tensorflow:From C:\\Users\\ACER\\anaconda3\\Lib\\site-packages\\keras\\src\\utils\\tf_utils.py:492: The name tf.ragged.RaggedTensorValue is deprecated. Please use tf.compat.v1.ragged.RaggedTensorValue instead.\n",
      "\n",
      "WARNING:tensorflow:From C:\\Users\\ACER\\anaconda3\\Lib\\site-packages\\keras\\src\\engine\\base_layer_utils.py:384: The name tf.executing_eagerly_outside_functions is deprecated. Please use tf.compat.v1.executing_eagerly_outside_functions instead.\n",
      "\n",
      "38/38 [==============================] - 12s 287ms/step - loss: 0.8557 - accuracy: 0.5335 - val_loss: 0.6588 - val_accuracy: 0.7228\n",
      "Epoch 2/30\n",
      "38/38 [==============================] - 10s 275ms/step - loss: 0.6472 - accuracy: 0.6212 - val_loss: 0.5633 - val_accuracy: 0.7327\n",
      "Epoch 3/30\n",
      "38/38 [==============================] - 10s 271ms/step - loss: 0.5673 - accuracy: 0.7113 - val_loss: 0.8561 - val_accuracy: 0.5479\n",
      "Epoch 4/30\n",
      "38/38 [==============================] - 10s 264ms/step - loss: 0.5169 - accuracy: 0.7502 - val_loss: 0.4599 - val_accuracy: 0.7789\n",
      "Epoch 5/30\n",
      "38/38 [==============================] - 10s 264ms/step - loss: 0.4783 - accuracy: 0.7792 - val_loss: 0.4577 - val_accuracy: 0.7888\n",
      "Epoch 6/30\n",
      "38/38 [==============================] - 10s 264ms/step - loss: 0.4017 - accuracy: 0.8263 - val_loss: 0.4125 - val_accuracy: 0.8119\n",
      "Epoch 7/30\n",
      "38/38 [==============================] - 10s 256ms/step - loss: 0.4017 - accuracy: 0.8197 - val_loss: 0.3858 - val_accuracy: 0.7954\n",
      "Epoch 8/30\n",
      "38/38 [==============================] - 11s 277ms/step - loss: 0.3412 - accuracy: 0.8586 - val_loss: 0.3909 - val_accuracy: 0.8218\n",
      "Epoch 9/30\n",
      "38/38 [==============================] - 10s 262ms/step - loss: 0.2822 - accuracy: 0.8908 - val_loss: 0.4896 - val_accuracy: 0.7459\n",
      "Epoch 10/30\n",
      "38/38 [==============================] - 10s 273ms/step - loss: 0.2616 - accuracy: 0.8925 - val_loss: 0.3725 - val_accuracy: 0.8185\n",
      "Epoch 11/30\n",
      "38/38 [==============================] - 11s 281ms/step - loss: 0.2462 - accuracy: 0.8974 - val_loss: 0.3418 - val_accuracy: 0.8383\n",
      "Epoch 12/30\n",
      "38/38 [==============================] - 11s 282ms/step - loss: 0.2240 - accuracy: 0.9206 - val_loss: 0.3020 - val_accuracy: 0.8614\n",
      "Epoch 13/30\n",
      "38/38 [==============================] - 11s 284ms/step - loss: 0.2050 - accuracy: 0.9181 - val_loss: 0.4166 - val_accuracy: 0.8416\n",
      "Epoch 14/30\n",
      "38/38 [==============================] - 11s 294ms/step - loss: 0.1735 - accuracy: 0.9347 - val_loss: 0.3641 - val_accuracy: 0.8350\n",
      "Epoch 15/30\n",
      "38/38 [==============================] - 11s 285ms/step - loss: 0.1378 - accuracy: 0.9495 - val_loss: 0.4553 - val_accuracy: 0.8449\n",
      "Epoch 16/30\n",
      "38/38 [==============================] - 11s 287ms/step - loss: 0.1405 - accuracy: 0.9413 - val_loss: 0.3839 - val_accuracy: 0.8680\n",
      "Epoch 17/30\n",
      "38/38 [==============================] - 11s 290ms/step - loss: 0.1194 - accuracy: 0.9553 - val_loss: 0.4206 - val_accuracy: 0.8317\n",
      "Epoch 18/30\n",
      "38/38 [==============================] - 11s 290ms/step - loss: 0.1017 - accuracy: 0.9570 - val_loss: 0.4474 - val_accuracy: 0.8350\n",
      "Epoch 19/30\n",
      "38/38 [==============================] - 11s 278ms/step - loss: 0.0890 - accuracy: 0.9669 - val_loss: 0.4858 - val_accuracy: 0.8152\n",
      "Epoch 20/30\n",
      "38/38 [==============================] - 11s 281ms/step - loss: 0.0748 - accuracy: 0.9719 - val_loss: 0.3874 - val_accuracy: 0.8548\n",
      "Epoch 21/30\n",
      "38/38 [==============================] - 10s 274ms/step - loss: 0.0858 - accuracy: 0.9661 - val_loss: 0.4363 - val_accuracy: 0.8515\n",
      "Epoch 22/30\n",
      "38/38 [==============================] - 10s 272ms/step - loss: 0.0638 - accuracy: 0.9768 - val_loss: 0.3659 - val_accuracy: 0.8812\n",
      "Epoch 23/30\n",
      "38/38 [==============================] - 11s 278ms/step - loss: 0.0705 - accuracy: 0.9661 - val_loss: 0.4525 - val_accuracy: 0.8449\n",
      "Epoch 24/30\n",
      "38/38 [==============================] - 10s 273ms/step - loss: 0.0478 - accuracy: 0.9843 - val_loss: 0.4196 - val_accuracy: 0.8647\n",
      "Epoch 25/30\n",
      "38/38 [==============================] - 10s 272ms/step - loss: 0.0554 - accuracy: 0.9768 - val_loss: 0.4057 - val_accuracy: 0.8845\n",
      "Epoch 26/30\n",
      "38/38 [==============================] - 11s 281ms/step - loss: 0.0365 - accuracy: 0.9868 - val_loss: 0.5223 - val_accuracy: 0.8845\n",
      "Epoch 27/30\n",
      "38/38 [==============================] - 11s 293ms/step - loss: 0.0567 - accuracy: 0.9801 - val_loss: 0.4856 - val_accuracy: 0.8581\n",
      "Epoch 28/30\n",
      "38/38 [==============================] - 11s 287ms/step - loss: 0.0380 - accuracy: 0.9892 - val_loss: 0.5436 - val_accuracy: 0.8647\n",
      "Epoch 29/30\n",
      "38/38 [==============================] - 11s 288ms/step - loss: 0.0484 - accuracy: 0.9810 - val_loss: 0.8164 - val_accuracy: 0.8482\n",
      "Epoch 30/30\n",
      "38/38 [==============================] - 11s 285ms/step - loss: 0.0425 - accuracy: 0.9859 - val_loss: 0.3827 - val_accuracy: 0.8746\n"
     ]
    },
    {
     "data": {
      "text/plain": [
       "<keras.src.callbacks.History at 0x1d5cc741e10>"
      ]
     },
     "execution_count": 13,
     "metadata": {},
     "output_type": "execute_result"
    }
   ],
   "source": [
    "model.fit(X_train, y_train, epochs=30, batch_size=32, validation_split=0.2)\n"
   ]
  },
  {
   "cell_type": "markdown",
   "id": "89d49cce",
   "metadata": {},
   "source": [
    "# Prediction\n"
   ]
  },
  {
   "cell_type": "code",
   "execution_count": 14,
   "id": "2eaa1812",
   "metadata": {},
   "outputs": [
    {
     "data": {
      "text/plain": [
       "'C:\\\\Users\\\\ACER\\\\Desktop\\\\New_proj'"
      ]
     },
     "execution_count": 14,
     "metadata": {},
     "output_type": "execute_result"
    }
   ],
   "source": [
    "import os\n",
    "os.getcwd()"
   ]
  },
  {
   "cell_type": "code",
   "execution_count": 21,
   "id": "9d0b6d69",
   "metadata": {},
   "outputs": [
    {
     "name": "stdout",
     "output_type": "stream",
     "text": [
      "1/1 [==============================] - 0s 27ms/step\n",
      "[[1.       ]\n",
      " [1.       ]\n",
      " [0.9999277]]\n",
      "Poor Quality\n"
     ]
    }
   ],
   "source": [
    "import cv2\n",
    "image_p= \"stale.JPG\"\n",
    "image=cv2.imread(image_p)\n",
    "image = cv2.resize(image,(200,200))\n",
    "image = image.reshape(3,200,200,1) / 255.0\n",
    "q=model.predict(image)\n",
    "print(q)\n",
    "if(q[0]>0.5):\n",
    "    print(\"Poor Quality\")\n",
    "else:\n",
    "    print(\"Good Quality\")\n",
    "    \n"
   ]
  },
  {
   "cell_type": "code",
   "execution_count": null,
   "id": "26c63a9f",
   "metadata": {},
   "outputs": [],
   "source": []
  },
  {
   "cell_type": "code",
   "execution_count": null,
   "id": "098faed2",
   "metadata": {},
   "outputs": [],
   "source": []
  }
 ],
 "metadata": {
  "kernelspec": {
   "display_name": "Python 3 (ipykernel)",
   "language": "python",
   "name": "python3"
  },
  "language_info": {
   "codemirror_mode": {
    "name": "ipython",
    "version": 3
   },
   "file_extension": ".py",
   "mimetype": "text/x-python",
   "name": "python",
   "nbconvert_exporter": "python",
   "pygments_lexer": "ipython3",
   "version": "3.11.5"
  }
 },
 "nbformat": 4,
 "nbformat_minor": 5
}
